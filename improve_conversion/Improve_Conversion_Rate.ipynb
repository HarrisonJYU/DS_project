{
  "nbformat": 4,
  "nbformat_minor": 0,
  "metadata": {
    "kernelspec": {
      "display_name": "Python 3",
      "language": "python",
      "name": "python3"
    },
    "language_info": {
      "codemirror_mode": {
        "name": "ipython",
        "version": 3
      },
      "file_extension": ".py",
      "mimetype": "text/x-python",
      "name": "python",
      "nbconvert_exporter": "python",
      "pygments_lexer": "ipython3",
      "version": "3.7.6"
    },
    "colab": {
      "name": "How to Improve Conversion Rate solution.ipynb",
      "provenance": [],
      "include_colab_link": true
    }
  },
  "cells": [
    {
      "cell_type": "markdown",
      "metadata": {
        "id": "view-in-github",
        "colab_type": "text"
      },
      "source": [
        "<a href=\"https://colab.research.google.com/github/HarrisonJYU/DS_project/blob/working/improve_conversion/Improve_Conversion_Rate.ipynb\" target=\"_parent\"><img src=\"https://colab.research.google.com/assets/colab-badge.svg\" alt=\"Open In Colab\"/></a>"
      ]
    },
    {
      "cell_type": "code",
      "metadata": {
        "id": "q32Uah3ahdN1",
        "outputId": "64c85514-5ef8-4bb9-9f6e-ba68b6f8f262"
      },
      "source": [
        "import pandas\n",
        "pandas.set_option('display.max_columns', 10)\n",
        "pandas.set_option('display.width', 350)\n",
        "  \n",
        "#read from google drive\n",
        "data=pandas.read_csv(\"https://drive.google.com/uc?export=download&id=1LU5be_H1TD2Pp1OmI202to3YyKo9AzFY\")\n",
        "  \n",
        "print(data.head())"
      ],
      "execution_count": null,
      "outputs": [
        {
          "output_type": "stream",
          "text": [
            "  country  age  new_user source  total_pages_visited  converted\n",
            "0      UK   25         1    Ads                    1          0\n",
            "1      US   23         1    Seo                    5          0\n",
            "2      US   28         1    Seo                    4          0\n",
            "3   China   39         1    Seo                    5          0\n",
            "4      US   30         1    Seo                    6          0\n"
          ],
          "name": "stdout"
        }
      ]
    },
    {
      "cell_type": "markdown",
      "metadata": {
        "id": "CPFxRwhUhdN5"
      },
      "source": [
        "## Descriptive Stats ##"
      ]
    },
    {
      "cell_type": "code",
      "metadata": {
        "id": "1dCQUC4IhdN6"
      },
      "source": [
        "print(data.groupby(['country']).size())"
      ],
      "execution_count": null,
      "outputs": []
    },
    {
      "cell_type": "code",
      "metadata": {
        "id": "VEF12pcLhdN6",
        "outputId": "d58b262b-ddbf-409c-9dc6-aed7d7ced5ee"
      },
      "source": [
        "print(data.groupby(['source']).size())"
      ],
      "execution_count": null,
      "outputs": [
        {
          "output_type": "stream",
          "text": [
            "source\n",
            "Ads        88740\n",
            "Direct     72420\n",
            "Seo       155040\n",
            "dtype: int64\n"
          ],
          "name": "stdout"
        }
      ]
    },
    {
      "cell_type": "code",
      "metadata": {
        "id": "qywxNGCphdN6",
        "outputId": "9eaf12b5-a68f-4824-8fab-afeae2d3478b"
      },
      "source": [
        "# check the outliers\n",
        "print(data[data['age']>110])"
      ],
      "execution_count": null,
      "outputs": [
        {
          "output_type": "stream",
          "text": [
            "        country  age  new_user source  total_pages_visited  converted\n",
            "90928   Germany  123         0    Seo                   15          1\n",
            "295581       UK  111         0    Ads                   10          1\n"
          ],
          "name": "stdout"
        }
      ]
    },
    {
      "cell_type": "code",
      "metadata": {
        "id": "qSYo_CVThdN6"
      },
      "source": [
        "data = data[data['age']<110]"
      ],
      "execution_count": null,
      "outputs": []
    },
    {
      "cell_type": "markdown",
      "metadata": {
        "id": "-NQvs1B3hdN7"
      },
      "source": [
        "Check the Segments with low conversion rate and get a sense of the data"
      ]
    },
    {
      "cell_type": "code",
      "metadata": {
        "id": "X3eNlV8ChdN7",
        "outputId": "4bb2f4c0-9699-4a95-a8cc-371d7e51d573"
      },
      "source": [
        "import matplotlib.pyplot as plt\n",
        "from matplotlib import rcParams\n",
        "rcParams.update({'figure.autolayout': True})\n",
        "  \n",
        "data.groupby(['country'])['converted'].mean().plot.bar()\n",
        "plt.show()"
      ],
      "execution_count": null,
      "outputs": [
        {
          "output_type": "display_data",
          "data": {
            "image/png": "[encoded data removed]",
            "text/plain": [
              "<Figure size 432x288 with 1 Axes>"
            ]
          },
          "metadata": {
            "tags": [],
            "needs_background": "light"
          }
        }
      ]
    },
    {
      "cell_type": "code",
      "metadata": {
        "id": "PNH38azghdN8",
        "outputId": "4c01bda7-bf4a-4096-9706-5b02a4e23b7d"
      },
      "source": [
        "import matplotlib.pyplot as plt\n",
        "from matplotlib import rcParams\n",
        "rcParams.update({'figure.autolayout': True})\n",
        "  \n",
        "age_bin=data.groupby(['age'])['converted'].mean()\n",
        "age_bin=age_bin.reset_index()\n",
        "plt.bar(age_bin.age, age_bin.converted)"
      ],
      "execution_count": null,
      "outputs": [
        {
          "output_type": "execute_result",
          "data": {
            "text/plain": [
              "<BarContainer object of 58 artists>"
            ]
          },
          "metadata": {
            "tags": []
          },
          "execution_count": 27
        },
        {
          "output_type": "display_data",
          "data": {
            "image/png": "[encoded data removed]",
            "text/plain": [
              "<Figure size 432x288 with 1 Axes>"
            ]
          },
          "metadata": {
            "tags": [],
            "needs_background": "light"
          }
        }
      ]
    },
    {
      "cell_type": "code",
      "metadata": {
        "id": "wTJhXucnhdN8",
        "outputId": "9b50a818-8ce6-41e6-cf21-f5c00682908a"
      },
      "source": [
        "data.groupby(['total_pages_visited'])['converted'].mean().plot()\n",
        "plt.show()"
      ],
      "execution_count": null,
      "outputs": [
        {
          "output_type": "display_data",
          "data": {
            "image/png": "[encoded data removed]",
            "text/plain": [
              "<Figure size 432x288 with 1 Axes>"
            ]
          },
          "metadata": {
            "tags": [],
            "needs_background": "light"
          }
        }
      ]
    },
    {
      "cell_type": "markdown",
      "metadata": {
        "id": "Sm-iOy-jhdN8"
      },
      "source": [
        "## Machine Learning ##"
      ]
    },
    {
      "cell_type": "code",
      "metadata": {
        "id": "8tMFp_D8hdN9"
      },
      "source": [
        "#dummy variables for the categorical ones\n",
        "data_dummy = pandas.get_dummies(data, drop_first=True)"
      ],
      "execution_count": null,
      "outputs": []
    },
    {
      "cell_type": "code",
      "metadata": {
        "id": "69BQ_14zhdN9"
      },
      "source": [
        "import numpy as np\n",
        "from sklearn.ensemble import RandomForestClassifier"
      ],
      "execution_count": null,
      "outputs": []
    },
    {
      "cell_type": "code",
      "metadata": {
        "id": "TYFYRSy4hdN9",
        "outputId": "31b43b6d-4ebf-45bd-bd11-143aa6619a9f"
      },
      "source": [
        "from sklearn.metrics import confusion_matrix\n",
        "from sklearn.model_selection import train_test_split\n",
        "np.random.seed(4684)\n",
        "  \n",
        "#split into train and test to avoid overfitting\n",
        "train, test = train_test_split(data_dummy, test_size = 0.34)\n",
        "  \n",
        "#build the model\n",
        "rf = RandomForestClassifier(n_estimators=100, max_features=3, oob_score=True)\n",
        "rf.fit(train.drop('converted', axis=1), train['converted'])\n",
        "  \n",
        "#let's print OOB accuracy and confusion matrix\n",
        "print(\n",
        "\"OOB accuracy is\", \n",
        "rf.oob_score_, \n",
        "\"\\n\", \n",
        "\"OOB Confusion Matrix\", \n",
        "\"\\n\",\n",
        "pandas.DataFrame(confusion_matrix(train['converted'], rf.oob_decision_function_[:,1].round(), labels=[0, 1]))\n",
        ")"
      ],
      "execution_count": null,
      "outputs": [
        {
          "output_type": "stream",
          "text": [
            "OOB accuracy is 0.9838851885571901 \n",
            " OOB Confusion Matrix \n",
            "         0     1\n",
            "0  200872  1102\n",
            "1    2261  4455\n"
          ],
          "name": "stdout"
        }
      ]
    },
    {
      "cell_type": "code",
      "metadata": {
        "id": "fObA8h06hdN-",
        "outputId": "43dcac63-2e5b-4da6-af93-d0ae554c162b"
      },
      "source": [
        "#and let's print test accuracy and confusion matrix\n",
        "print(\n",
        "\"Test accuracy is\", rf.score(test.drop('converted', axis=1),test['converted']), \n",
        "\"\\n\", \n",
        "\"Test Set Confusion Matrix\", \n",
        "\"\\n\",\n",
        "pandas.DataFrame(confusion_matrix(test['converted'], rf.predict(test.drop('converted', axis=1)), labels=[0, 1]))\n",
        ")\n"
      ],
      "execution_count": null,
      "outputs": [
        {
          "output_type": "stream",
          "text": [
            "Test accuracy is 0.9847360196450496 \n",
            " Test Set Confusion Matrix \n",
            "         0     1\n",
            "0  103483   543\n",
            "1    1098  2384\n"
          ],
          "name": "stdout"
        }
      ]
    },
    {
      "cell_type": "code",
      "metadata": {
        "id": "U8owgXPMhdN-",
        "outputId": "867fbac8-2e55-4252-969a-abb0ab9eb0b2"
      },
      "source": [
        "feat_importances = pandas.Series(rf.feature_importances_, index=train.drop('converted', axis=1).columns)\n",
        "feat_importances.sort_values().plot(kind='barh')\n",
        "plt.show()\n"
      ],
      "execution_count": null,
      "outputs": [
        {
          "output_type": "display_data",
          "data": {
            "image/png": "[encoded data removed]",
            "text/plain": [
              "<Figure size 432x288 with 1 Axes>"
            ]
          },
          "metadata": {
            "tags": [],
            "needs_background": "light"
          }
        }
      ]
    },
    {
      "cell_type": "code",
      "metadata": {
        "id": "ipKI2l3FhdN_",
        "outputId": "ad535346-0c3b-42b2-cc64-694b2173ad36"
      },
      "source": [
        "#build the model without total_pages_visited\n",
        "rf = RandomForestClassifier(n_estimators=100, max_features=3, oob_score=True, class_weight={0:1, 1:10})\n",
        "rf.fit(train.drop(['converted', 'total_pages_visited'], axis=1), train['converted'])\n",
        "  \n",
        "#let's print OOB accuracy and confusion matrix\n",
        "print(\n",
        "\"OOB accuracy is\", \n",
        "rf.oob_score_, \n",
        "\"\\n\", \n",
        "\"OOB Confusion Matrix\", \n",
        "\"\\n\",\n",
        "pandas.DataFrame(confusion_matrix(train['converted'], rf.oob_decision_function_[:,1].round(), labels=[0, 1]))\n",
        ")"
      ],
      "execution_count": null,
      "outputs": [
        {
          "output_type": "stream",
          "text": [
            "OOB accuracy is 0.889827016148354 \n",
            " OOB Confusion Matrix \n",
            "         0      1\n",
            "0  182720  19254\n",
            "1    3738   2978\n"
          ],
          "name": "stdout"
        }
      ]
    },
    {
      "cell_type": "code",
      "metadata": {
        "id": "N7rZ4aynhdN_",
        "outputId": "558be714-6461-4ef5-9d4d-3105fa9e3007"
      },
      "source": [
        "#and let's print test accuracy and confusion matrix\n",
        "print(\n",
        "\"Test accuracy is\", rf.score(test.drop(['converted', 'total_pages_visited'], axis=1),test['converted']), \n",
        "\"\\n\", \n",
        "\"Test Set Confusion Matrix\", \n",
        "\"\\n\",\n",
        "pandas.DataFrame(confusion_matrix(test['converted'], rf.predict(test.drop(['converted', 'total_pages_visited'], axis=1)), labels=[0, 1]))\n",
        ")\n"
      ],
      "execution_count": null,
      "outputs": [
        {
          "output_type": "stream",
          "text": [
            "Test accuracy is 0.8899802805372623 \n",
            " Test Set Confusion Matrix \n",
            "        0     1\n",
            "0  94140  9886\n",
            "1   1942  1540\n"
          ],
          "name": "stdout"
        }
      ]
    },
    {
      "cell_type": "code",
      "metadata": {
        "id": "tH29ndtkhdN_",
        "outputId": "55f3d38e-62dd-4b51-e0ab-5f13fe92a164"
      },
      "source": [
        "feat_importances = pandas.Series(rf.feature_importances_, index=train.drop(['converted', 'total_pages_visited'], axis=1).columns)\n",
        "feat_importances.sort_values().plot(kind='barh')\n",
        "plt.show()\n"
      ],
      "execution_count": null,
      "outputs": [
        {
          "output_type": "display_data",
          "data": {
            "image/png": "[encoded data removed]",
            "text/plain": [
              "<Figure size 432x288 with 1 Axes>"
            ]
          },
          "metadata": {
            "tags": [],
            "needs_background": "light"
          }
        }
      ]
    },
    {
      "cell_type": "code",
      "metadata": {
        "id": "HfnKYxBDhdOA",
        "outputId": "d4f2bf52-ede5-4c09-f79f-7651b9f03652"
      },
      "source": [
        "from pdpbox import pdp, info_plots\n",
        "  \n",
        "#country\n",
        "pdp_iso = pdp.pdp_isolate( model=rf, \n",
        "                          dataset=train.drop(['converted', 'total_pages_visited'], axis=1),      \n",
        "                          model_features=list(train.drop(['converted', 'total_pages_visited'], axis=1)), \n",
        "                          feature=['country_Germany', 'country_UK', 'country_US'], \n",
        "                          num_grid_points=50)\n",
        "pdp_dataset = pandas.Series(pdp_iso.pdp, index=pdp_iso.display_columns)\n",
        "pdp_dataset.sort_values(ascending=False).plot(kind='bar', title='Country')\n",
        "plt.show()\n"
      ],
      "execution_count": null,
      "outputs": [
        {
          "output_type": "display_data",
          "data": {
            "image/png": "[encoded data removed]",
            "text/plain": [
              "<Figure size 432x288 with 1 Axes>"
            ]
          },
          "metadata": {
            "tags": [],
            "needs_background": "light"
          }
        }
      ]
    },
    {
      "cell_type": "code",
      "metadata": {
        "id": "-eIHLq5ahdOA",
        "outputId": "b2680c24-345c-46ff-d004-d6821667716d"
      },
      "source": [
        "pip install pdpbox"
      ],
      "execution_count": null,
      "outputs": [
        {
          "output_type": "stream",
          "text": [
            "Collecting pdpbox\n",
            "  Downloading PDPbox-0.2.0.tar.gz (57.7 MB)\n",
            "\u001b[K     |████████████████████████████████| 57.7 MB 15.5 MB/s eta 0:00:01     |██████████████████████████████▏ | 54.4 MB 15.5 MB/s eta 0:00:01\n",
            "\u001b[?25hRequirement already satisfied: pandas in ./opt/anaconda3/lib/python3.7/site-packages (from pdpbox) (1.0.1)\n",
            "Requirement already satisfied: numpy in ./opt/anaconda3/lib/python3.7/site-packages (from pdpbox) (1.18.1)\n",
            "Requirement already satisfied: scipy in ./opt/anaconda3/lib/python3.7/site-packages (from pdpbox) (1.4.1)\n",
            "Requirement already satisfied: matplotlib>=2.1.2 in ./opt/anaconda3/lib/python3.7/site-packages (from pdpbox) (3.1.3)\n",
            "Requirement already satisfied: joblib in ./opt/anaconda3/lib/python3.7/site-packages (from pdpbox) (0.14.1)\n",
            "Requirement already satisfied: psutil in ./opt/anaconda3/lib/python3.7/site-packages (from pdpbox) (5.6.7)\n",
            "Requirement already satisfied: scikit-learn in ./opt/anaconda3/lib/python3.7/site-packages (from pdpbox) (0.22.1)\n",
            "Requirement already satisfied: pytz>=2017.2 in ./opt/anaconda3/lib/python3.7/site-packages (from pandas->pdpbox) (2019.3)\n",
            "Requirement already satisfied: python-dateutil>=2.6.1 in ./opt/anaconda3/lib/python3.7/site-packages (from pandas->pdpbox) (2.8.1)\n",
            "Requirement already satisfied: kiwisolver>=1.0.1 in ./opt/anaconda3/lib/python3.7/site-packages (from matplotlib>=2.1.2->pdpbox) (1.1.0)\n",
            "Requirement already satisfied: pyparsing!=2.0.4,!=2.1.2,!=2.1.6,>=2.0.1 in ./opt/anaconda3/lib/python3.7/site-packages (from matplotlib>=2.1.2->pdpbox) (2.4.6)\n",
            "Requirement already satisfied: cycler>=0.10 in ./opt/anaconda3/lib/python3.7/site-packages (from matplotlib>=2.1.2->pdpbox) (0.10.0)\n",
            "Requirement already satisfied: six>=1.5 in ./opt/anaconda3/lib/python3.7/site-packages (from python-dateutil>=2.6.1->pandas->pdpbox) (1.14.0)\n",
            "Requirement already satisfied: setuptools in ./opt/anaconda3/lib/python3.7/site-packages (from kiwisolver>=1.0.1->matplotlib>=2.1.2->pdpbox) (46.0.0.post20200309)\n",
            "Building wheels for collected packages: pdpbox\n",
            "  Building wheel for pdpbox (setup.py) ... \u001b[?25ldone\n",
            "\u001b[?25h  Created wheel for pdpbox: filename=PDPbox-0.2.0-py3-none-any.whl size=57690722 sha256=764c6ce0434bb5a51eaf326be1a3b56eb1cac8fd2b4c2eafb3c467e19fd5856e\n",
            "  Stored in directory: /Users/subaba/Library/Caches/pip/wheels/68/fe/64/20ca2c417f503c2d1e24f40b3eba7aba9cc3e6e681fadf7de1\n",
            "Successfully built pdpbox\n",
            "Installing collected packages: pdpbox\n",
            "Successfully installed pdpbox-0.2.0\n",
            "Note: you may need to restart the kernel to use updated packages.\n"
          ],
          "name": "stdout"
        }
      ]
    },
    {
      "cell_type": "code",
      "metadata": {
        "id": "iX7oq-HPhdOA",
        "outputId": "9c1729ef-4dce-47ca-c0c4-096de23c4079"
      },
      "source": [
        "pdp_iso = pdp.pdp_isolate( model=rf, \n",
        "                          dataset=train.drop(['converted', 'total_pages_visited'], axis=1),      \n",
        "                          model_features=list(train.drop(['converted', 'total_pages_visited'], axis=1)), \n",
        "                          feature=['source_Direct', 'source_Seo'], \n",
        "                          num_grid_points=50)\n",
        "pdp_dataset = pandas.Series(pdp_iso.pdp, index=pdp_iso.display_columns)\n",
        "pdp_dataset.sort_values(ascending=False).plot(kind='bar', title='Source')\n",
        "plt.show()"
      ],
      "execution_count": null,
      "outputs": [
        {
          "output_type": "display_data",
          "data": {
            "image/png": "[encoded data removed]",
            "text/plain": [
              "<Figure size 432x288 with 1 Axes>"
            ]
          },
          "metadata": {
            "tags": [],
            "needs_background": "light"
          }
        }
      ]
    },
    {
      "cell_type": "code",
      "metadata": {
        "id": "PCyM9nrphdOA",
        "outputId": "40ea3825-0dd9-4595-d69c-722039cdcdaf"
      },
      "source": [
        "#new user\n",
        "pdp_iso = pdp.pdp_isolate( model=rf, \n",
        "                          dataset=train.drop(['converted', 'total_pages_visited'], axis=1),      \n",
        "                          model_features=list(train.drop(['converted', 'total_pages_visited'], axis=1)), \n",
        "                          feature='new_user', \n",
        "                          num_grid_points=50)\n",
        "pdp_dataset = pandas.Series(pdp_iso.pdp, index=pdp_iso.display_columns)\n",
        "pdp_dataset.sort_values(ascending=False).plot(kind='bar', title='New User')\n",
        "plt.show()\n"
      ],
      "execution_count": null,
      "outputs": [
        {
          "output_type": "display_data",
          "data": {
            "image/png": "[encoded data removed]",
            "text/plain": [
              "<Figure size 432x288 with 1 Axes>"
            ]
          },
          "metadata": {
            "tags": [],
            "needs_background": "light"
          }
        }
      ]
    },
    {
      "cell_type": "code",
      "metadata": {
        "id": "pLGAiPYehdOB",
        "outputId": "bc9b3caf-241e-4c17-b66d-7bc52ab7acc0"
      },
      "source": [
        "#age\n",
        "pdp_iso = pdp.pdp_isolate( model=rf, \n",
        "                          dataset=train.drop(['converted', 'total_pages_visited'], axis=1),      \n",
        "                          model_features=list(train.drop(['converted', 'total_pages_visited'], axis=1)), \n",
        "                          feature='age', \n",
        "                          num_grid_points=50)\n",
        "pdp_dataset = pandas.Series(pdp_iso.pdp, index=pdp_iso.feature_grids)\n",
        "pdp_dataset.plot(title='Age')\n",
        "plt.show()"
      ],
      "execution_count": null,
      "outputs": [
        {
          "output_type": "display_data",
          "data": {
            "image/png": "[encoded data removed]",
            "text/plain": [
              "<Figure size 432x288 with 1 Axes>"
            ]
          },
          "metadata": {
            "tags": [],
            "needs_background": "light"
          }
        }
      ]
    },
    {
      "cell_type": "markdown",
      "metadata": {
        "id": "DdpiTz4ahdOC"
      },
      "source": [
        "This shows that:\n",
        "\n",
        "Users with an old account are much better than new users\n",
        "\n",
        "Germany, UK, and US are similar, with Germany being the best. Most importantly, they all have very very high values. We could read this as relative to the reference level, which is China. So this means that not being from China and being from any of those 3 countries significantly increases the probability of conversion. That is, China is very bad for conversion\n",
        "\n",
        "The site works very well for young people and gets worse for >30 yr old\n",
        "\n",
        "Source is less relevant\n",
        "\n"
      ]
    },
    {
      "cell_type": "code",
      "metadata": {
        "id": "xyySVH4ThdOC",
        "outputId": "93632bc8-44f6-481d-9fad-6e78dfa6f568"
      },
      "source": [
        "import graphviz\n",
        "from sklearn.tree import DecisionTreeClassifier\n",
        "from sklearn.tree import export_graphviz\n",
        "from graphviz import Source\n",
        "  \n",
        "tree = DecisionTreeClassifier( max_depth=2,class_weight={0:1, 1:10}, min_impurity_decrease = 0.001)\n",
        "tree.fit(train.drop(['converted', 'total_pages_visited'], axis=1), train['converted'])\n",
        "  \n",
        "#visualize it\n",
        "export_graphviz(tree, out_file=\"tree_conversion.dot\", feature_names=train.drop(['converted', 'total_pages_visited'], axis=1).columns, proportion=True, rotate=True)\n",
        "with open(\"tree_conversion.dot\") as f:\n",
        "    dot_graph = f.read()\n",
        "  \n",
        "s = Source.from_file(\"tree_conversion.dot\")\n",
        "s.view()\n"
      ],
      "execution_count": null,
      "outputs": [
        {
          "output_type": "error",
          "ename": "ModuleNotFoundError",
          "evalue": "No module named 'graphviz'",
          "traceback": [
            "\u001b[0;31m---------------------------------------------------------------------------\u001b[0m",
            "\u001b[0;31mModuleNotFoundError\u001b[0m                       Traceback (most recent call last)",
            "\u001b[0;32m<ipython-input-49-a37a71d7e4a1>\u001b[0m in \u001b[0;36m<module>\u001b[0;34m\u001b[0m\n\u001b[0;32m----> 1\u001b[0;31m \u001b[0;32mimport\u001b[0m \u001b[0mgraphviz\u001b[0m\u001b[0;34m\u001b[0m\u001b[0;34m\u001b[0m\u001b[0m\n\u001b[0m\u001b[1;32m      2\u001b[0m \u001b[0;32mfrom\u001b[0m \u001b[0msklearn\u001b[0m\u001b[0;34m.\u001b[0m\u001b[0mtree\u001b[0m \u001b[0;32mimport\u001b[0m \u001b[0mDecisionTreeClassifier\u001b[0m\u001b[0;34m\u001b[0m\u001b[0;34m\u001b[0m\u001b[0m\n\u001b[1;32m      3\u001b[0m \u001b[0;32mfrom\u001b[0m \u001b[0msklearn\u001b[0m\u001b[0;34m.\u001b[0m\u001b[0mtree\u001b[0m \u001b[0;32mimport\u001b[0m \u001b[0mexport_graphviz\u001b[0m\u001b[0;34m\u001b[0m\u001b[0;34m\u001b[0m\u001b[0m\n\u001b[1;32m      4\u001b[0m \u001b[0;32mfrom\u001b[0m \u001b[0mgraphviz\u001b[0m \u001b[0;32mimport\u001b[0m \u001b[0mSource\u001b[0m\u001b[0;34m\u001b[0m\u001b[0;34m\u001b[0m\u001b[0m\n\u001b[1;32m      5\u001b[0m \u001b[0;34m\u001b[0m\u001b[0m\n",
            "\u001b[0;31mModuleNotFoundError\u001b[0m: No module named 'graphviz'"
          ]
        }
      ]
    },
    {
      "cell_type": "markdown",
      "metadata": {
        "id": "ET1pnHVyhdOD"
      },
      "source": [
        "Conclusions and next steps:\n",
        "\n",
        "\n",
        "\n",
        "\n",
        "The site is working very well for young users. Definitely let’s tell marketing to advertise and use channels which are more likely to reach young people.\n",
        "\n",
        "The site is working very well for Germany in terms of conversion. But the summary showed that there are few Germans coming to the site: way less than UK, despite a larger population. Again, marketing should get more Germans. Big opportunity.\n",
        "\n",
        "Users with old accounts do much better. Targeted emails with offers to bring them back to the site could be a good idea to try.\n",
        "\n",
        "Maybe go through the UI and figure out why older users perform so poorly? From ~30 y/o conversion clearly starts dropping. A good actionable metric here is conversion rate for people >=30 yr old. Building a team whose goal is to increase that number would be interesting.\n",
        "\n",
        "Something is wrong with the Chinese version of the site. It is either poorly translated, doesn’t fit the local culture, or maybe some payment issue. Given how many users are based in China, fixing this should be a top priority. Huge opportunity.\n",
        "\n",
        "\n",
        "As you can see, product ideas usually end up being about:\n",
        "\n",
        "Identify segments that perform well, but have low absolute count (like Germany). Then tell marketing to get more of those people\n",
        "\n",
        "Tell product to fix the experience for the bad performing ones\n",
        "\n",
        "Bad performing segments with high absolute count (like China) usually provide the biggest opportunities for massive gains, if you can guess why that’s happening and then build a test to validate your hypothesis"
      ]
    },
    {
      "cell_type": "code",
      "metadata": {
        "id": "tvgqcMSLhdOE"
      },
      "source": [
        ""
      ],
      "execution_count": null,
      "outputs": []
    }
  ]
}